{
 "cells": [
  {
   "cell_type": "code",
   "execution_count": 76,
   "metadata": {},
   "outputs": [],
   "source": [
    "import matplotlib.pyplot as plt\n",
    "import os\n",
    "import warnings\n",
    "import numpy as np\n",
    "import pandas as pd\n",
    "import yfinance as yf\n",
    "import statsmodels.formula.api as smf\n",
    "import pandas_datareader.data as web\n",
    "from datetime import datetime as dt\n",
    "import pickle\n",
    "\n",
    "warnings.simplefilter(action='ignore', category=FutureWarning)"
   ]
  },
  {
   "cell_type": "code",
   "execution_count": 176,
   "metadata": {},
   "outputs": [],
   "source": [
    "def get_multi_factor_model_data():\n",
    "    START_DATE = '1954-01-01'\n",
    "    # three factors \n",
    "    df_three_factor = web.DataReader('F-F_Research_Data_Factors', 'famafrench', start=START_DATE)[0]\n",
    "    df_three_factor.index = df_three_factor.index.format()\n",
    "\n",
    "    # momentum factor\n",
    "    df_mom = web.DataReader('F-F_Momentum_Factor', 'famafrench', start=START_DATE)[0]\n",
    "    df_mom.index = df_mom.index.format()\n",
    "\n",
    "    # three factors\n",
    "    df_four_factor = df_three_factor.join(df_mom)\n",
    "\n",
    "    # five factors\n",
    "    df_five_factor = web.DataReader('F-F_Research_Data_5_Factors_2x3', 'famafrench', start=START_DATE)[0]\n",
    "    df_five_factor.index = df_five_factor.index.format()\n",
    "\n",
    "    df_three_factor.to_csv('data/multi-factor_models/F-F_Research_Data_Factors.csv')\n",
    "    df_four_factor.to_csv('data/multi-factor_models/Carhart_4_Factors.csv')\n",
    "    df_five_factor.to_csv('data/multi-factor_models/F-F_Research_Data_5_Factors_2x3.csv')\n",
    "\n",
    "get_multi_factor_model_data()"
   ]
  },
  {
   "cell_type": "code",
   "execution_count": 2,
   "metadata": {},
   "outputs": [],
   "source": [
    "def get_multi_factor_data():\n",
    "    f = 'data/multi-factor_models'\n",
    "    df_three_factor = pd.read_csv(os.path.join(f, 'F-F_Research_Data_Factors.csv'), \n",
    "                                  index_col='Unnamed: 0')\n",
    "    df_four_factor = pd.read_csv(os.path.join(f, 'Carhart_4_Factors.csv'), \n",
    "                                  index_col='Unnamed: 0')\n",
    "    df_five_factor = pd.read_csv(os.path.join(f, 'F-F_Research_Data_5_Factors_2x3.csv'), \n",
    "                                  index_col='Unnamed: 0')\n",
    "\n",
    "    return df_three_factor, df_four_factor, df_five_factor\n",
    "\n",
    "\n",
    "df_three_factor, df_four_factor, df_five_factor = get_multi_factor_data()                               "
   ]
  },
  {
   "cell_type": "code",
   "execution_count": 7,
   "metadata": {},
   "outputs": [],
   "source": [
    "START_DATE = '2019-01-01'\n",
    "END_DATE = '2022-01-01'"
   ]
  },
  {
   "cell_type": "code",
   "execution_count": 4,
   "metadata": {},
   "outputs": [],
   "source": [
    "SPY_info_df = pd.read_csv('data/SPY-Info.csv')\n",
    "ticker_list = SPY_info_df['Symbol'].to_list()"
   ]
  },
  {
   "cell_type": "code",
   "execution_count": 8,
   "metadata": {},
   "outputs": [],
   "source": [
    "def get_ticker_data(ticker):\n",
    "    f = 'data/market_data'\n",
    "    ticker_df = pd.read_csv(os.path.join(f, f'{ticker}.csv'), index_col='Unnamed: 0',\n",
    "                            parse_dates=True)\n",
    "\n",
    "    return ticker_df"
   ]
  },
  {
   "cell_type": "markdown",
   "metadata": {},
   "source": [
    "Merge the datasets for the four-factor models:"
   ]
  },
  {
   "cell_type": "code",
   "execution_count": 84,
   "metadata": {},
   "outputs": [],
   "source": [
    "def get_model_parameters(model): \n",
    "    params = pd.read_html(model.summary().tables[1].as_html(), header=0, index_col=0)[0]\n",
    "    params = params.rename(columns={'P>|t|': 'p-value'})\n",
    "    f_pvalue = round(model.f_pvalue, 3)\n",
    "    rsquared = round(model.rsquared, 3)\n",
    "    rsquared_adj = round(model.rsquared_adj, 3)\n",
    "    \n",
    "    return params, f_pvalue, rsquared, rsquared_adj\n",
    "\n",
    "# params, f_pvalue, rsquared, rsquared_adj = get_model_parameters(five_factor_model)\n"
   ]
  },
  {
   "cell_type": "code",
   "execution_count": 91,
   "metadata": {},
   "outputs": [],
   "source": [
    "def make_factor_model(model, start, end, ticker):\n",
    "    ticker_df = get_ticker_data(ticker)\n",
    "    y = ticker_df['adjclose'].resample('M') \\\n",
    "                             .last() \\\n",
    "                             .pct_change() \\\n",
    "                             .dropna()\n",
    "    y.index = y.index.strftime('%Y-%m')\n",
    "    y.name = 'return'\n",
    "\n",
    "    if model == 3:\n",
    "        model_df = df_three_factor\n",
    "        model_data = model_df.join(y, how='inner')\n",
    "        model_data.columns = ['mkt', 'smb', 'hml', 'rf', 'rtn']\n",
    "        formula = 'excess_rtn ~ mkt + smb + hml'\n",
    "    elif model == 4:\n",
    "        model_df = df_four_factor\n",
    "        model_data = model_df.join(y, how='inner')\n",
    "        model_data.columns = ['mkt', 'smb', 'hml', 'rf', 'mom', 'rtn']\n",
    "        formula = 'excess_rtn ~ mkt + smb + hml + mom'\n",
    "    elif model == 5:\n",
    "        model_df = df_five_factor\n",
    "        model_data = model_df.join(y, how='inner')\n",
    "        model_data.columns = ['mkt', 'smb', 'hml', 'rmw', 'cma', 'rf', 'rtn']\n",
    "        formula = 'excess_rtn ~ mkt + smb + hml + rmw + cma'\n",
    "\n",
    "    model_data.loc[:, model_data.columns != 'rtn'] /= 100\n",
    "    model_data.index = [pd.to_datetime(x, format='%Y-%m') for x in model_data.index]\n",
    "    model_data = model_data.loc[start:end]\n",
    "    model_data['excess_rtn'] = model_data.rtn - model_data.rf\n",
    "\n",
    "    if not model_data.empty:\n",
    "        factor_model = smf.ols(formula=formula, data=model_data).fit()\n",
    "        params, f_pvalue, rsquared, rsquared_adj = get_model_parameters(factor_model)\n",
    "    else:\n",
    "        params, f_pvalue, rsquared, rsquared_adj = [pd.DataFrame()] + [np.nan] * 3\n",
    "    \n",
    "    return params, f_pvalue, rsquared, rsquared_adj"
   ]
  },
  {
   "cell_type": "markdown",
   "metadata": {},
   "source": [
    "Merge the datasets for the five-factor models:"
   ]
  },
  {
   "cell_type": "code",
   "execution_count": 107,
   "metadata": {},
   "outputs": [
    {
     "name": "stderr",
     "output_type": "stream",
     "text": [
      "c:\\Users\\pnjor\\anaconda3\\lib\\site-packages\\scipy\\stats\\stats.py:1541: UserWarning: kurtosistest only valid for n>=20 ... continuing anyway, n=8\n",
      "  warnings.warn(\"kurtosistest only valid for n>=20 ... continuing \"\n"
     ]
    },
    {
     "name": "stdout",
     "output_type": "stream",
     "text": [
      "92% of stock returns explained by 3-factor model\n"
     ]
    },
    {
     "name": "stderr",
     "output_type": "stream",
     "text": [
      "c:\\Users\\pnjor\\anaconda3\\lib\\site-packages\\scipy\\stats\\stats.py:1541: UserWarning: kurtosistest only valid for n>=20 ... continuing anyway, n=8\n",
      "  warnings.warn(\"kurtosistest only valid for n>=20 ... continuing \"\n"
     ]
    },
    {
     "name": "stdout",
     "output_type": "stream",
     "text": [
      "86% of stock returns explained by 4-factor model\n"
     ]
    },
    {
     "name": "stderr",
     "output_type": "stream",
     "text": [
      "c:\\Users\\pnjor\\anaconda3\\lib\\site-packages\\scipy\\stats\\stats.py:1541: UserWarning: kurtosistest only valid for n>=20 ... continuing anyway, n=8\n",
      "  warnings.warn(\"kurtosistest only valid for n>=20 ... continuing \"\n"
     ]
    },
    {
     "name": "stdout",
     "output_type": "stream",
     "text": [
      "85% of stock returns explained by 5-factor model\n"
     ]
    }
   ],
   "source": [
    "def make_ticker_factor_models():\n",
    "    relevant_ticker_factor_models = {}\n",
    "    irrelevant_ticker_factor_models = {}\n",
    "    for model in [3, 4, 5]:\n",
    "        ticker_factor_models = {}\n",
    "        relevant_factor_models = {}\n",
    "        irrelevant_factor_models = {}\n",
    "    \n",
    "        for ticker in ticker_list:\n",
    "            params, f_pvalue, rsquared, rsquared_adj = make_factor_model(model, START_DATE, END_DATE, ticker)\n",
    "            ticker_factor_models[ticker] = {'f_pvalue': f_pvalue, \n",
    "                                            'rsquared_adj': rsquared_adj, \n",
    "                                            'params': params}\n",
    "            if params.empty:\n",
    "                irrelevant_factor_models[ticker] =  ticker_factor_models[ticker]\n",
    "            else:\n",
    "                if f_pvalue <= 0.05 and not all(x > 0.05 for x in params['p-value']) \\\n",
    "                    and (params.loc['Intercept', 'p-value'] > 0.05 or model == 3):\n",
    "                    relevant_factor_models[ticker] =  ticker_factor_models[ticker]\n",
    "                else:\n",
    "                    irrelevant_factor_models[ticker] =  ticker_factor_models[ticker]\n",
    "            \n",
    "        # relevant_factor_models = sorted(relevant_factor_models, key=lambda x: x[1]['rsquared_adj'], \n",
    "        #                                 reverse=True)\n",
    "        # irrelevant_factor_models = sorted(irrelevant_factor_models, key=lambda x: x[1]['rsquared_adj'], \n",
    "        #                                   reverse=True)\n",
    "        \n",
    "        relevant_ticker_factor_models[f'{model}_factor_models'] = relevant_factor_models\n",
    "        irrelevant_ticker_factor_models[f'{model}_factor_models'] = irrelevant_factor_models\n",
    "\n",
    "        print(f\"{len(relevant_factor_models) / len(ticker_list) * 100:.0f}% \" +\n",
    "              f\"of stock returns explained by {model}-factor model\")\n",
    "\n",
    "    f = r'data\\multi-factor_models'\n",
    "\n",
    "    with open(os.path.join(f, f'relevant_ticker_factor_models.pickle'), 'wb') as file:\n",
    "        pickle.dump(relevant_ticker_factor_models, file)\n",
    "\n",
    "    with open(os.path.join(f, f'irrelevant_ticker_factor_models.pickle'), 'wb') as file:\n",
    "        pickle.dump(irrelevant_ticker_factor_models, file)\n",
    "\n",
    "make_ticker_factor_models()"
   ]
  },
  {
   "cell_type": "markdown",
   "metadata": {},
   "source": [
    "Compare predictions to actual results"
   ]
  },
  {
   "cell_type": "code",
   "execution_count": 111,
   "metadata": {},
   "outputs": [],
   "source": [
    "def get_ticker_factor_models():\n",
    "    f = r'data\\multi-factor_models'\n",
    "\n",
    "    with open(os.path.join(f, 'relevant_ticker_factor_models.pickle'), 'rb') as file:\n",
    "        relevant_ticker_factor_models = pickle.load(file)\n",
    "    with open(os.path.join(f, 'irrelevant_ticker_factor_models.pickle'), 'rb') as file:\n",
    "        irrelevant_ticker_factor_models = pickle.load(file)\n",
    "    \n",
    "    return relevant_ticker_factor_models, irrelevant_ticker_factor_models\n",
    "    \n",
    "relevant_ticker_factor_models, irrelevant_ticker_factor_models = get_ticker_factor_models()"
   ]
  },
  {
   "cell_type": "code",
   "execution_count": 112,
   "metadata": {},
   "outputs": [],
   "source": [
    "relevant_3_factor_models = relevant_ticker_factor_models['3_factor_models']\n",
    "relevant_4_factor_models = relevant_ticker_factor_models['4_factor_models']\n",
    "relevant_5_factor_models = relevant_ticker_factor_models['5_factor_models']\n",
    "irrelevant_3_factor_models = irrelevant_ticker_factor_models['3_factor_models']\n",
    "irrelevant_4_factor_models = irrelevant_ticker_factor_models['4_factor_models']\n",
    "irrelevant_5_factor_models = irrelevant_ticker_factor_models['5_factor_models']"
   ]
  },
  {
   "cell_type": "code",
   "execution_count": 160,
   "metadata": {},
   "outputs": [
    {
     "data": {
      "text/plain": [
       "datetime.datetime(2022, 2, 1, 0, 0)"
      ]
     },
     "execution_count": 160,
     "metadata": {},
     "output_type": "execute_result"
    }
   ],
   "source": [
    "from datetime import timedelta\n",
    "\n",
    "\n",
    "dt.strptime(END_DATE, '%Y-%m') + timedelta(days=31)"
   ]
  },
  {
   "cell_type": "code",
   "execution_count": 177,
   "metadata": {},
   "outputs": [
    {
     "data": {
      "text/plain": [
       "2022-02-28   -0.001822\n",
       "Freq: M, Name: adjclose, dtype: float64"
      ]
     },
     "execution_count": 177,
     "metadata": {},
     "output_type": "execute_result"
    }
   ],
   "source": [
    "END_DATE = '2022-01'\n",
    "ticker = 'GOOGL'\n",
    "ticker_df = get_ticker_data(ticker)\n",
    "y = ticker_df['adjclose'].resample('M') \\\n",
    "                            .last() \\\n",
    "                            .pct_change() \\\n",
    "                            .dropna()\n",
    "\n",
    "df = df_four_factor\n",
    "df.columns = df.columns.str.lower()\n",
    "df.columns = df.columns.str.strip()\n",
    "df = df.rename(columns={'mkt-rf': 'mkt'})\n",
    "factors = df.loc[END_DATE, df_four_factor.columns != 'rf']\n",
    "betas = relevant_4_factor_models[ticker]['params'].coef\n",
    "\n",
    "# pred_date = dt.strptime(END_DATE, '%Y-%m') + timedelta(days=31)\n",
    "y['2022-02']\n"
   ]
  },
  {
   "cell_type": "code",
   "execution_count": 175,
   "metadata": {},
   "outputs": [
    {
     "data": {
      "text/plain": [
       "{'f_pvalue': 0.0,\n",
       " 'rsquared_adj': 0.496,\n",
       " 'params':              coef  std err      t  p-value  [0.025  0.975]\n",
       " Intercept  0.0096    0.009  1.093    0.282  -0.008   0.027\n",
       " mkt        1.0416    0.189  5.513    0.000   0.657   1.426\n",
       " smb       -0.1963    0.318 -0.617    0.542  -0.845   0.452\n",
       " hml        0.1107    0.206  0.537    0.595  -0.309   0.530\n",
       " mom        0.1289    0.257  0.502    0.619  -0.394   0.652}"
      ]
     },
     "execution_count": 175,
     "metadata": {},
     "output_type": "execute_result"
    }
   ],
   "source": [
    "relevant_4_factor_models[ticker]"
   ]
  },
  {
   "cell_type": "code",
   "execution_count": 172,
   "metadata": {},
   "outputs": [
    {
     "data": {
      "text/plain": [
       "-4.257873000000001"
      ]
     },
     "execution_count": 172,
     "metadata": {},
     "output_type": "execute_result"
    }
   ],
   "source": [
    "rtn = 0  # expected return according to model\n",
    "for x in factors.index:\n",
    "    # print(x, betas[x])\n",
    "    rtn += factors[x] * betas[x]\n",
    "\n",
    "rtn"
   ]
  }
 ],
 "metadata": {
  "kernelspec": {
   "display_name": "Python 3 (ipykernel)",
   "language": "python",
   "name": "python3"
  },
  "language_info": {
   "codemirror_mode": {
    "name": "ipython",
    "version": 3
   },
   "file_extension": ".py",
   "mimetype": "text/x-python",
   "name": "python",
   "nbconvert_exporter": "python",
   "pygments_lexer": "ipython3",
   "version": "3.9.12"
  },
  "vscode": {
   "interpreter": {
    "hash": "fbf00028c01309ec1b95cca6169d8b5ea3ebbd0de0fb069babf7e61372871465"
   }
  }
 },
 "nbformat": 4,
 "nbformat_minor": 2
}

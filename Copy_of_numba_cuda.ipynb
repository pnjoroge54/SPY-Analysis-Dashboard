{
  "nbformat": 4,
  "nbformat_minor": 0,
  "metadata": {
    "colab": {
      "provenance": [],
      "include_colab_link": true
    },
    "kernelspec": {
      "name": "python3",
      "display_name": "Python 3"
    },
    "accelerator": "GPU"
  },
  "cells": [
    {
      "cell_type": "markdown",
      "metadata": {
        "id": "view-in-github",
        "colab_type": "text"
      },
      "source": [
        "<a href=\"https://colab.research.google.com/github/pnjoroge54/SPY-Analysis-Dashboard/blob/master/Copy_of_numba_cuda.ipynb\" target=\"_parent\"><img src=\"https://colab.research.google.com/assets/colab-badge.svg\" alt=\"Open In Colab\"/></a>"
      ]
    },
    {
      "cell_type": "markdown",
      "metadata": {
        "id": "fm8wdYqVBeXj"
      },
      "source": [
        "## Numba + CUDA on Google Colab\n",
        "\n",
        "By default, Google Colab is not able to run numba + CUDA, because two lilbraries are not found, `libdevice` and `libnvvm.so`. So we need to make sure that these libraries are found in the notebook.  \n",
        "\n",
        "First, we look for these libraries on the system. To do that, we simply run the `find` command, to recursively look for these libraries starting at the root of the filesystem. The exclamation mark escapes the line so that it's executed by the Linux shell, and not by the jupyter notebook."
      ]
    },
    {
      "cell_type": "code",
      "metadata": {
        "id": "5Mt7dgLwmnVJ",
        "outputId": "7f4241f1-9457-4ab5-a229-939a897a2e9e",
        "colab": {
          "base_uri": "https://localhost:8080/",
          "height": 51
        }
      },
      "source": [
        "!find / -iname 'libdevice'\n",
        "!find / -iname 'libnvvm.so'\n"
      ],
      "execution_count": null,
      "outputs": [
        {
          "output_type": "stream",
          "text": [
            "/usr/local/cuda-10.0/nvvm/libdevice\n",
            "/usr/local/cuda-10.0/nvvm/lib64/libnvvm.so\n"
          ],
          "name": "stdout"
        }
      ]
    },
    {
      "cell_type": "markdown",
      "metadata": {
        "id": "HO0mdhPoDRTS"
      },
      "source": [
        "Then, we add the two libraries to numba environment variables:"
      ]
    },
    {
      "cell_type": "code",
      "metadata": {
        "id": "Ctr6aM3cmkdx"
      },
      "source": [
        "import os\n",
        "os.environ['NUMBAPRO_LIBDEVICE'] = \"/usr/local/cuda-10.0/nvvm/libdevice\"\n",
        "os.environ['NUMBAPRO_NVVM'] = \"/usr/local/cuda-10.0/nvvm/lib64/libnvvm.so\"\n"
      ],
      "execution_count": null,
      "outputs": []
    },
    {
      "cell_type": "markdown",
      "metadata": {
        "id": "whscBGwEDcEZ"
      },
      "source": [
        "And we're done! Now let's get started."
      ]
    },
    {
      "cell_type": "markdown",
      "metadata": {
        "id": "03jodrvKLJAP"
      },
      "source": [
        "## A gentle introduction to ufuncs\n",
        "\n",
        "Numpy universal functions or ufuncs are functions that operate on a numpy array in an element-by-element fashion. For example, when we take the square of a numpy array, a ufunc computes the square of each element before returning the resulting array:  "
      ]
    },
    {
      "cell_type": "code",
      "metadata": {
        "id": "hw8e1l8iLpH1",
        "outputId": "c6b6de20-2d4c-4458-c367-cec379065d29",
        "colab": {
          "base_uri": "https://localhost:8080/",
          "height": 34
        }
      },
      "source": [
        "import numpy as np\n",
        "x = np.arange(10)\n",
        "x**2"
      ],
      "execution_count": null,
      "outputs": [
        {
          "output_type": "execute_result",
          "data": {
            "text/plain": [
              "array([ 0,  1,  4,  9, 16, 25, 36, 49, 64, 81])"
            ]
          },
          "metadata": {
            "tags": []
          },
          "execution_count": 3
        }
      ]
    },
    {
      "cell_type": "markdown",
      "metadata": {
        "id": "Y2hF7-vzLys6"
      },
      "source": [
        "Most math functions (if not all) are available as ufuncs in numpy. For example, to exponentiate all elements in a numpy array:"
      ]
    },
    {
      "cell_type": "code",
      "metadata": {
        "id": "1n2hkLgbLx86",
        "outputId": "07e7b9c6-c222-4733-85da-445ed8396feb",
        "colab": {
          "base_uri": "https://localhost:8080/",
          "height": 68
        }
      },
      "source": [
        "np.exp(x)"
      ],
      "execution_count": null,
      "outputs": [
        {
          "output_type": "execute_result",
          "data": {
            "text/plain": [
              "array([1.00000000e+00, 2.71828183e+00, 7.38905610e+00, 2.00855369e+01,\n",
              "       5.45981500e+01, 1.48413159e+02, 4.03428793e+02, 1.09663316e+03,\n",
              "       2.98095799e+03, 8.10308393e+03])"
            ]
          },
          "metadata": {
            "tags": []
          },
          "execution_count": 4
        }
      ]
    },
    {
      "cell_type": "markdown",
      "metadata": {
        "id": "zwkXetz9MInV"
      },
      "source": [
        "Most ufuncs are implemented in compiled C code, so they are already quite fast, and much faster than plain python. For example, let's consider a large array, and let's compute the logarithm of each element, both in plain python and in numpy:"
      ]
    },
    {
      "cell_type": "code",
      "metadata": {
        "id": "v_EU7lwrNBUP",
        "outputId": "1bed24c6-1679-4368-a632-65f6e5b041f1",
        "colab": {
          "base_uri": "https://localhost:8080/",
          "height": 51
        }
      },
      "source": [
        "import math\n",
        "x = np.arange(int(1e6))\n",
        "%timeit np.sqrt(x)\n",
        "%timeit [math.sqrt(xx) for xx in x]"
      ],
      "execution_count": null,
      "outputs": [
        {
          "output_type": "stream",
          "text": [
            "100 loops, best of 3: 2.73 ms per loop\n",
            "10 loops, best of 3: 178 ms per loop\n"
          ],
          "name": "stdout"
        }
      ]
    },
    {
      "cell_type": "markdown",
      "metadata": {
        "id": "2xwQGTwVNXEr"
      },
      "source": [
        "We see that the numpy ufunc is about 50 times faster. Still, in the ufunc, the calculation is not parallelized: the square root is computed sequentially on the CPU for each element in the array.\n",
        "\n",
        "The GPU, contrary to the CPU, is able to perform a large number of operations simultaneously. In the following, we will see how to create and compile ufuncs for the GPU to perform the calculation on many elements at the same time."
      ]
    },
    {
      "cell_type": "markdown",
      "metadata": {
        "id": "Tk2lkx_LEJhN"
      },
      "source": [
        "## A very simple example : parallel square root calculation on the GPU\n",
        "\n",
        "Our first ufunc for the GPU will again compute the square root for a large number of points.\n",
        "\n",
        "We start by building a sample of points ranging from 0 to 10 millions. GPUs are more efficient with numbers that are encoded on a small number of bits. And often, a very high precision is not needed. So we create a sample of `float32` numbers (the default being `float64`):"
      ]
    },
    {
      "cell_type": "code",
      "metadata": {
        "id": "8CZsUw4REvNW"
      },
      "source": [
        "import numpy as np\n",
        "npoints = int(1e7)\n",
        "a = np.arange(npoints, dtype=np.float32)"
      ],
      "execution_count": null,
      "outputs": []
    },
    {
      "cell_type": "markdown",
      "metadata": {
        "id": "v_rQxpVQP6Qo"
      },
      "source": [
        "With numba, we can create ufuncs **compiled for the CPU** using the vectorize decorator. Let's start by doing this:"
      ]
    },
    {
      "cell_type": "code",
      "metadata": {
        "id": "xT64SF4DQR1V",
        "outputId": "2e1a47c0-e218-42e5-cb5c-f52baf9c125c",
        "colab": {
          "base_uri": "https://localhost:8080/",
          "height": 51
        }
      },
      "source": [
        "import math\n",
        "from numba import vectorize\n",
        "\n",
        "@vectorize\n",
        "def cpu_sqrt(x):\n",
        "  return math.sqrt(x)\n",
        "\n",
        "cpu_sqrt(x)"
      ],
      "execution_count": null,
      "outputs": [
        {
          "output_type": "execute_result",
          "data": {
            "text/plain": [
              "array([  0.        ,   1.        ,   1.41421356, ..., 999.9985    ,\n",
              "       999.999     , 999.9995    ])"
            ]
          },
          "metadata": {
            "tags": []
          },
          "execution_count": 7
        }
      ]
    },
    {
      "cell_type": "markdown",
      "metadata": {
        "id": "nhGMg8bSEwLw"
      },
      "source": [
        "Creating a ufunc **for the GPU** is almost as straightforward:"
      ]
    },
    {
      "cell_type": "code",
      "metadata": {
        "id": "zuaHYsSTnZml"
      },
      "source": [
        "import math\n",
        "from numba import vectorize\n",
        "\n",
        "@vectorize(['float32(float32)'], target='cuda')\n",
        "def gpu_sqrt(x):\n",
        "    return math.sqrt(x)\n"
      ],
      "execution_count": null,
      "outputs": []
    },
    {
      "cell_type": "code",
      "metadata": {
        "id": "_pnAX86QoQGq",
        "outputId": "e4d5e754-2b8a-4da4-b826-6ea7fb31f626",
        "colab": {
          "base_uri": "https://localhost:8080/",
          "height": 51
        }
      },
      "source": [
        "gpu_sqrt(a)"
      ],
      "execution_count": null,
      "outputs": [
        {
          "output_type": "execute_result",
          "data": {
            "text/plain": [
              "array([0.0000000e+00, 1.0000000e+00, 1.4142135e+00, ..., 3.1622771e+03,\n",
              "       3.1622773e+03, 3.1622776e+03], dtype=float32)"
            ]
          },
          "metadata": {
            "tags": []
          },
          "execution_count": 9
        }
      ]
    },
    {
      "cell_type": "markdown",
      "metadata": {
        "id": "1IygNUitPxNi"
      },
      "source": [
        "It is important to note that, contrary to the CPU case, the input and return types of the function have to be specified, when compiling for the GPU. In the string:\n",
        "\n",
        "```\n",
        "'float32(float32)'\n",
        "```\n",
        "\n",
        "The first `float32` corresponds to the return type, and the second one to the input type. You can think of it as: the returned value is a function of the input value. Also, please note that these types need to be adapted to your data. In the case above, we have created an array of `float32` values, so we are fine.\n",
        "\n",
        "**Exercise:** Edit the type definition in the vectorize decorator to read `float64`, and see what happens when you call the function. Then change it back to `float32`."
      ]
    },
    {
      "cell_type": "markdown",
      "metadata": {
        "id": "npFHbvbNGZ0k"
      },
      "source": [
        "Now let's see how much we gained. For this, we use the timeit magic command."
      ]
    },
    {
      "cell_type": "code",
      "metadata": {
        "id": "DNvfK-TeGBI3",
        "outputId": "861fd310-4780-4571-ad46-8456a11ed235",
        "colab": {
          "base_uri": "https://localhost:8080/",
          "height": 34
        }
      },
      "source": [
        "%timeit gpu_sqrt(a)"
      ],
      "execution_count": null,
      "outputs": [
        {
          "output_type": "stream",
          "text": [
            "10 loops, best of 3: 24.7 ms per loop\n"
          ],
          "name": "stdout"
        }
      ]
    },
    {
      "cell_type": "markdown",
      "metadata": {
        "id": "TRQYI0JjGrNB"
      },
      "source": [
        "The GPU managed to compute the sqrt for 10 million points in 40 ms. Now let's see what we get with numpy, which is compiled for the CPU, and with our CPU ufunc:\n"
      ]
    },
    {
      "cell_type": "code",
      "metadata": {
        "id": "NPsSrGcyF5-a",
        "outputId": "e9c05364-61b1-4911-a1b8-b21a88adda09",
        "colab": {
          "base_uri": "https://localhost:8080/",
          "height": 34
        }
      },
      "source": [
        "%timeit np.sqrt(a)"
      ],
      "execution_count": null,
      "outputs": [
        {
          "output_type": "stream",
          "text": [
            "100 loops, best of 3: 9.19 ms per loop\n"
          ],
          "name": "stdout"
        }
      ]
    },
    {
      "cell_type": "code",
      "metadata": {
        "id": "r5cgsw2_Q4ZL",
        "outputId": "ccee7b57-23be-4de8-f9eb-1d24e7d9ce4c",
        "colab": {
          "base_uri": "https://localhost:8080/",
          "height": 51
        }
      },
      "source": [
        "%timeit cpu_sqrt(a)"
      ],
      "execution_count": null,
      "outputs": [
        {
          "output_type": "stream",
          "text": [
            "The slowest run took 6.34 times longer than the fastest. This could mean that an intermediate result is being cached.\n",
            "100 loops, best of 3: 8.92 ms per loop\n"
          ],
          "name": "stdout"
        }
      ]
    },
    {
      "cell_type": "markdown",
      "metadata": {
        "id": "eO1gsEtnF360"
      },
      "source": [
        "Wait! We do not gain anything and the CPU version is actually twice faster!\n",
        "\n",
        "There is a simple reason for this. When running on the GPU, the following happens under the hood:\n",
        "\n",
        "* the input data (the array `a`) is transferred to the GPU memory;\n",
        "* the calculation of the square root is done in parallel on the GPU for all elements of `a`;\n",
        "* the resulting array is sent back to the host system.\n",
        "\n",
        "If the calculation is too simple, there is no use shipping our data to the GPU for fast parallel processing, if we are to wait so long for the data transfers to complete. In other words, most of the time is spent in the data transfers, and the GPU is basically useless.\n",
        "\n",
        "Let's see what happens with a more involved calculation.\n",
        "\n"
      ]
    },
    {
      "cell_type": "markdown",
      "metadata": {
        "id": "lrze4fYGM2zu"
      },
      "source": [
        "## From cartesian to polar coordinates on the GPU\n",
        "\n",
        "Let's build an array of 1000 points in 2D, described by the cartesian coordinates x and y. We choose to draw the points according to a 2D Gaussian distribution, introducing some correlation between the x and y components:"
      ]
    },
    {
      "cell_type": "code",
      "metadata": {
        "id": "KFMuCJTzNYcj"
      },
      "source": [
        "points = np.random.multivariate_normal([0,0], [[1.,0.9], [0.9,1.]], 1000).astype(np.float32)"
      ],
      "execution_count": null,
      "outputs": []
    },
    {
      "cell_type": "code",
      "metadata": {
        "id": "jvAFfCXbvyI3",
        "outputId": "dae8cc84-863f-40cd-b6ca-39b01b5bcdd4",
        "colab": {
          "base_uri": "https://localhost:8080/",
          "height": 286
        }
      },
      "source": [
        "import matplotlib.pyplot as plt\n",
        "plt.scatter(points[:,0], points[:,1])"
      ],
      "execution_count": null,
      "outputs": [
        {
          "output_type": "execute_result",
          "data": {
            "text/plain": [
              "<matplotlib.collections.PathCollection at 0x7fbac45bd358>"
            ]
          },
          "metadata": {
            "tags": []
          },
          "execution_count": 14
        },
        {
          "output_type": "display_data",
          "data": {
            "image/png": "[encoded data removed]",
            "text/plain": [
              "<Figure size 432x288 with 1 Axes>"
            ]
          },
          "metadata": {
            "tags": []
          }
        }
      ]
    },
    {
      "cell_type": "markdown",
      "metadata": {
        "id": "v7zHafAWNTsn"
      },
      "source": [
        "It's often useful to convert cartesian coordinates into the polar coordinates `R` and `theta`, where r is the distance of the point to origin, and where theta is the angle between the x axis and the direction of the point.\n",
        "\n",
        "![](https://raw.githubusercontent.com/cbernet/maldives/master/numba/cart_polar.png)\n",
        "\n",
        "`R` is easily obtained as the quadratic sum of x and y:\n",
        "\n",
        "$$R = \\sqrt{x^2 + y^2}$$\n",
        "\n",
        "But to get theta, one has to use the `arctan2` function. This function is available in numpy, and we can use it to easily get the results (please note that the y coordinate has to be provided as the first argument)"
      ]
    },
    {
      "cell_type": "code",
      "metadata": {
        "id": "_QuMci1UOFMX",
        "outputId": "b9985859-d6d6-4a23-d78f-35e4c1fa3b6d",
        "colab": {
          "base_uri": "https://localhost:8080/",
          "height": 269
        }
      },
      "source": [
        "theta = np.arctan2(points[:,1], points[:,0])\n",
        "_ = plt.hist(theta, bins=100)"
      ],
      "execution_count": null,
      "outputs": [
        {
          "output_type": "display_data",
          "data": {
            "image/png": "[encoded data removed]",
            "text/plain": [
              "<Figure size 432x288 with 1 Axes>"
            ]
          },
          "metadata": {
            "tags": []
          }
        }
      ]
    },
    {
      "cell_type": "markdown",
      "metadata": {
        "id": "GrBoDk1fPWVE"
      },
      "source": [
        "Because of the correlation between x and y, we see two peaks at $\\pi/4$ and $-3\\pi/4$.\n",
        "\n",
        "Now let's try and perform the same calculation on the GPU. This time, we have two input values, and we define the function signature accordingly."
      ]
    },
    {
      "cell_type": "code",
      "metadata": {
        "id": "49E87JbarOOn"
      },
      "source": [
        "import math\n",
        "@vectorize(['float32(float32, float32)'],target='cuda')\n",
        "def gpu_arctan2(y, x):\n",
        "    theta = math.atan2(y,x)\n",
        "    return theta"
      ],
      "execution_count": null,
      "outputs": []
    },
    {
      "cell_type": "markdown",
      "metadata": {
        "id": "Ma4OnucmRw4r"
      },
      "source": [
        "As before with `np.arctan2`, we need to slice our `points` array to provide first the array of `y` coordinates, and then the array of `x` coordinates:"
      ]
    },
    {
      "cell_type": "code",
      "metadata": {
        "id": "Lw8BMFAr8tS2",
        "outputId": "963c530b-8c02-46c7-dc8a-20afb7af39b4",
        "colab": {
          "base_uri": "https://localhost:8080/",
          "height": 327
        }
      },
      "source": [
        "theta = gpu_arctan2(points[:,1], points[:,0])"
      ],
      "execution_count": null,
      "outputs": [
        {
          "output_type": "error",
          "ename": "ValueError",
          "evalue": "ignored",
          "traceback": [
            "\u001b[0;31m---------------------------------------------------------------------------\u001b[0m",
            "\u001b[0;31mValueError\u001b[0m                                Traceback (most recent call last)",
            "\u001b[0;32m<ipython-input-17-2811dabcd6c9>\u001b[0m in \u001b[0;36m<module>\u001b[0;34m()\u001b[0m\n\u001b[0;32m----> 1\u001b[0;31m \u001b[0mtheta\u001b[0m \u001b[0;34m=\u001b[0m \u001b[0mgpu_arctan2\u001b[0m\u001b[0;34m(\u001b[0m\u001b[0mpoints\u001b[0m\u001b[0;34m[\u001b[0m\u001b[0;34m:\u001b[0m\u001b[0;34m,\u001b[0m\u001b[0;36m1\u001b[0m\u001b[0;34m]\u001b[0m\u001b[0;34m,\u001b[0m \u001b[0mpoints\u001b[0m\u001b[0;34m[\u001b[0m\u001b[0;34m:\u001b[0m\u001b[0;34m,\u001b[0m\u001b[0;36m0\u001b[0m\u001b[0;34m]\u001b[0m\u001b[0;34m)\u001b[0m\u001b[0;34m\u001b[0m\u001b[0;34m\u001b[0m\u001b[0m\n\u001b[0m",
            "\u001b[0;32m/usr/local/lib/python3.6/dist-packages/numba/cuda/dispatcher.py\u001b[0m in \u001b[0;36m__call__\u001b[0;34m(self, *args, **kws)\u001b[0m\n\u001b[1;32m     86\u001b[0m                       \u001b[0mthe\u001b[0m \u001b[0minput\u001b[0m \u001b[0marguments\u001b[0m\u001b[0;34m.\u001b[0m\u001b[0;34m\u001b[0m\u001b[0;34m\u001b[0m\u001b[0m\n\u001b[1;32m     87\u001b[0m         \"\"\"\n\u001b[0;32m---> 88\u001b[0;31m         \u001b[0;32mreturn\u001b[0m \u001b[0mCUDAUFuncMechanism\u001b[0m\u001b[0;34m.\u001b[0m\u001b[0mcall\u001b[0m\u001b[0;34m(\u001b[0m\u001b[0mself\u001b[0m\u001b[0;34m.\u001b[0m\u001b[0mfunctions\u001b[0m\u001b[0;34m,\u001b[0m \u001b[0margs\u001b[0m\u001b[0;34m,\u001b[0m \u001b[0mkws\u001b[0m\u001b[0;34m)\u001b[0m\u001b[0;34m\u001b[0m\u001b[0;34m\u001b[0m\u001b[0m\n\u001b[0m\u001b[1;32m     89\u001b[0m \u001b[0;34m\u001b[0m\u001b[0m\n\u001b[1;32m     90\u001b[0m     \u001b[0;32mdef\u001b[0m \u001b[0mreduce\u001b[0m\u001b[0;34m(\u001b[0m\u001b[0mself\u001b[0m\u001b[0;34m,\u001b[0m \u001b[0marg\u001b[0m\u001b[0;34m,\u001b[0m \u001b[0mstream\u001b[0m\u001b[0;34m=\u001b[0m\u001b[0;36m0\u001b[0m\u001b[0;34m)\u001b[0m\u001b[0;34m:\u001b[0m\u001b[0;34m\u001b[0m\u001b[0;34m\u001b[0m\u001b[0m\n",
            "\u001b[0;32m/usr/local/lib/python3.6/dist-packages/numba/npyufunc/deviceufunc.py\u001b[0m in \u001b[0;36mcall\u001b[0;34m(cls, typemap, args, kws)\u001b[0m\n\u001b[1;32m    292\u001b[0m                 \u001b[0many_device\u001b[0m \u001b[0;34m=\u001b[0m \u001b[0;32mTrue\u001b[0m\u001b[0;34m\u001b[0m\u001b[0;34m\u001b[0m\u001b[0m\n\u001b[1;32m    293\u001b[0m             \u001b[0;32melse\u001b[0m\u001b[0;34m:\u001b[0m\u001b[0;34m\u001b[0m\u001b[0;34m\u001b[0m\u001b[0m\n\u001b[0;32m--> 294\u001b[0;31m                 \u001b[0mdev_a\u001b[0m \u001b[0;34m=\u001b[0m \u001b[0mcr\u001b[0m\u001b[0;34m.\u001b[0m\u001b[0mto_device\u001b[0m\u001b[0;34m(\u001b[0m\u001b[0ma\u001b[0m\u001b[0;34m,\u001b[0m \u001b[0mstream\u001b[0m\u001b[0;34m=\u001b[0m\u001b[0mstream\u001b[0m\u001b[0;34m)\u001b[0m\u001b[0;34m\u001b[0m\u001b[0;34m\u001b[0m\u001b[0m\n\u001b[0m\u001b[1;32m    295\u001b[0m                 \u001b[0mdevarys\u001b[0m\u001b[0;34m.\u001b[0m\u001b[0mappend\u001b[0m\u001b[0;34m(\u001b[0m\u001b[0mdev_a\u001b[0m\u001b[0;34m)\u001b[0m\u001b[0;34m\u001b[0m\u001b[0;34m\u001b[0m\u001b[0m\n\u001b[1;32m    296\u001b[0m \u001b[0;34m\u001b[0m\u001b[0m\n",
            "\u001b[0;32m/usr/local/lib/python3.6/dist-packages/numba/cuda/dispatcher.py\u001b[0m in \u001b[0;36mto_device\u001b[0;34m(self, hostary, stream)\u001b[0m\n\u001b[1;32m    207\u001b[0m \u001b[0;34m\u001b[0m\u001b[0m\n\u001b[1;32m    208\u001b[0m     \u001b[0;32mdef\u001b[0m \u001b[0mto_device\u001b[0m\u001b[0;34m(\u001b[0m\u001b[0mself\u001b[0m\u001b[0;34m,\u001b[0m \u001b[0mhostary\u001b[0m\u001b[0;34m,\u001b[0m \u001b[0mstream\u001b[0m\u001b[0;34m)\u001b[0m\u001b[0;34m:\u001b[0m\u001b[0;34m\u001b[0m\u001b[0;34m\u001b[0m\u001b[0m\n\u001b[0;32m--> 209\u001b[0;31m         \u001b[0;32mreturn\u001b[0m \u001b[0mcuda\u001b[0m\u001b[0;34m.\u001b[0m\u001b[0mto_device\u001b[0m\u001b[0;34m(\u001b[0m\u001b[0mhostary\u001b[0m\u001b[0;34m,\u001b[0m \u001b[0mstream\u001b[0m\u001b[0;34m=\u001b[0m\u001b[0mstream\u001b[0m\u001b[0;34m)\u001b[0m\u001b[0;34m\u001b[0m\u001b[0;34m\u001b[0m\u001b[0m\n\u001b[0m\u001b[1;32m    210\u001b[0m \u001b[0;34m\u001b[0m\u001b[0m\n\u001b[1;32m    211\u001b[0m     \u001b[0;32mdef\u001b[0m \u001b[0mto_host\u001b[0m\u001b[0;34m(\u001b[0m\u001b[0mself\u001b[0m\u001b[0;34m,\u001b[0m \u001b[0mdevary\u001b[0m\u001b[0;34m,\u001b[0m \u001b[0mstream\u001b[0m\u001b[0;34m)\u001b[0m\u001b[0;34m:\u001b[0m\u001b[0;34m\u001b[0m\u001b[0;34m\u001b[0m\u001b[0m\n",
            "\u001b[0;32m/usr/local/lib/python3.6/dist-packages/numba/cuda/cudadrv/devices.py\u001b[0m in \u001b[0;36m_require_cuda_context\u001b[0;34m(*args, **kws)\u001b[0m\n\u001b[1;32m    210\u001b[0m     \u001b[0;32mdef\u001b[0m \u001b[0m_require_cuda_context\u001b[0m\u001b[0;34m(\u001b[0m\u001b[0;34m*\u001b[0m\u001b[0margs\u001b[0m\u001b[0;34m,\u001b[0m \u001b[0;34m**\u001b[0m\u001b[0mkws\u001b[0m\u001b[0;34m)\u001b[0m\u001b[0;34m:\u001b[0m\u001b[0;34m\u001b[0m\u001b[0;34m\u001b[0m\u001b[0m\n\u001b[1;32m    211\u001b[0m         \u001b[0mget_context\u001b[0m\u001b[0;34m(\u001b[0m\u001b[0;34m)\u001b[0m\u001b[0;34m\u001b[0m\u001b[0;34m\u001b[0m\u001b[0m\n\u001b[0;32m--> 212\u001b[0;31m         \u001b[0;32mreturn\u001b[0m \u001b[0mfn\u001b[0m\u001b[0;34m(\u001b[0m\u001b[0;34m*\u001b[0m\u001b[0margs\u001b[0m\u001b[0;34m,\u001b[0m \u001b[0;34m**\u001b[0m\u001b[0mkws\u001b[0m\u001b[0;34m)\u001b[0m\u001b[0;34m\u001b[0m\u001b[0;34m\u001b[0m\u001b[0m\n\u001b[0m\u001b[1;32m    213\u001b[0m \u001b[0;34m\u001b[0m\u001b[0m\n\u001b[1;32m    214\u001b[0m     \u001b[0;32mreturn\u001b[0m \u001b[0m_require_cuda_context\u001b[0m\u001b[0;34m\u001b[0m\u001b[0;34m\u001b[0m\u001b[0m\n",
            "\u001b[0;32m/usr/local/lib/python3.6/dist-packages/numba/cuda/api.py\u001b[0m in \u001b[0;36mto_device\u001b[0;34m(obj, stream, copy, to)\u001b[0m\n\u001b[1;32m    101\u001b[0m     \"\"\"\n\u001b[1;32m    102\u001b[0m     \u001b[0;32mif\u001b[0m \u001b[0mto\u001b[0m \u001b[0;32mis\u001b[0m \u001b[0;32mNone\u001b[0m\u001b[0;34m:\u001b[0m\u001b[0;34m\u001b[0m\u001b[0;34m\u001b[0m\u001b[0m\n\u001b[0;32m--> 103\u001b[0;31m         \u001b[0mto\u001b[0m\u001b[0;34m,\u001b[0m \u001b[0mnew\u001b[0m \u001b[0;34m=\u001b[0m \u001b[0mdevicearray\u001b[0m\u001b[0;34m.\u001b[0m\u001b[0mauto_device\u001b[0m\u001b[0;34m(\u001b[0m\u001b[0mobj\u001b[0m\u001b[0;34m,\u001b[0m \u001b[0mstream\u001b[0m\u001b[0;34m=\u001b[0m\u001b[0mstream\u001b[0m\u001b[0;34m,\u001b[0m \u001b[0mcopy\u001b[0m\u001b[0;34m=\u001b[0m\u001b[0mcopy\u001b[0m\u001b[0;34m)\u001b[0m\u001b[0;34m\u001b[0m\u001b[0;34m\u001b[0m\u001b[0m\n\u001b[0m\u001b[1;32m    104\u001b[0m         \u001b[0;32mreturn\u001b[0m \u001b[0mto\u001b[0m\u001b[0;34m\u001b[0m\u001b[0;34m\u001b[0m\u001b[0m\n\u001b[1;32m    105\u001b[0m     \u001b[0;32mif\u001b[0m \u001b[0mcopy\u001b[0m\u001b[0;34m:\u001b[0m\u001b[0;34m\u001b[0m\u001b[0;34m\u001b[0m\u001b[0m\n",
            "\u001b[0;32m/usr/local/lib/python3.6/dist-packages/numba/cuda/cudadrv/devicearray.py\u001b[0m in \u001b[0;36mauto_device\u001b[0;34m(obj, stream, copy)\u001b[0m\n\u001b[1;32m    658\u001b[0m                 \u001b[0mcopy\u001b[0m\u001b[0;34m=\u001b[0m\u001b[0;32mFalse\u001b[0m\u001b[0;34m,\u001b[0m\u001b[0;34m\u001b[0m\u001b[0;34m\u001b[0m\u001b[0m\n\u001b[1;32m    659\u001b[0m                 subok=True)\n\u001b[0;32m--> 660\u001b[0;31m             \u001b[0msentry_contiguous\u001b[0m\u001b[0;34m(\u001b[0m\u001b[0mobj\u001b[0m\u001b[0;34m)\u001b[0m\u001b[0;34m\u001b[0m\u001b[0;34m\u001b[0m\u001b[0m\n\u001b[0m\u001b[1;32m    661\u001b[0m             \u001b[0mdevobj\u001b[0m \u001b[0;34m=\u001b[0m \u001b[0mfrom_array_like\u001b[0m\u001b[0;34m(\u001b[0m\u001b[0mobj\u001b[0m\u001b[0;34m,\u001b[0m \u001b[0mstream\u001b[0m\u001b[0;34m=\u001b[0m\u001b[0mstream\u001b[0m\u001b[0;34m)\u001b[0m\u001b[0;34m\u001b[0m\u001b[0;34m\u001b[0m\u001b[0m\n\u001b[1;32m    662\u001b[0m         \u001b[0;32mif\u001b[0m \u001b[0mcopy\u001b[0m\u001b[0;34m:\u001b[0m\u001b[0;34m\u001b[0m\u001b[0;34m\u001b[0m\u001b[0m\n",
            "\u001b[0;32m/usr/local/lib/python3.6/dist-packages/numba/cuda/cudadrv/devicearray.py\u001b[0m in \u001b[0;36msentry_contiguous\u001b[0;34m(ary)\u001b[0m\n\u001b[1;32m    632\u001b[0m \u001b[0;34m\u001b[0m\u001b[0m\n\u001b[1;32m    633\u001b[0m         \u001b[0;32melse\u001b[0m\u001b[0;34m:\u001b[0m\u001b[0;34m\u001b[0m\u001b[0;34m\u001b[0m\u001b[0m\n\u001b[0;32m--> 634\u001b[0;31m             \u001b[0;32mraise\u001b[0m \u001b[0mValueError\u001b[0m\u001b[0;34m(\u001b[0m\u001b[0merrmsg_contiguous_buffer\u001b[0m\u001b[0;34m)\u001b[0m\u001b[0;34m\u001b[0m\u001b[0;34m\u001b[0m\u001b[0m\n\u001b[0m\u001b[1;32m    635\u001b[0m \u001b[0;34m\u001b[0m\u001b[0m\n\u001b[1;32m    636\u001b[0m \u001b[0;34m\u001b[0m\u001b[0m\n",
            "\u001b[0;31mValueError\u001b[0m: Array contains non-contiguous buffer and cannot be transferred as a single memory region. Please ensure contiguous buffer with numpy .ascontiguousarray()"
          ]
        }
      ]
    },
    {
      "cell_type": "markdown",
      "metadata": {
        "id": "AR_hD0ndRNo3"
      },
      "source": [
        "Hmm this doesn't work. As the exception says, it is because `points[:,1]` contain values that are not contiguous in memory, and same for `points[:,2]`. So we do as instructed and convert these slices into contiguous arrays:"
      ]
    },
    {
      "cell_type": "code",
      "metadata": {
        "id": "ctVE6lhG9bBP"
      },
      "source": [
        "x = np.ascontiguousarray(points[:,0])\n",
        "y = np.ascontiguousarray(points[:,1])"
      ],
      "execution_count": null,
      "outputs": []
    },
    {
      "cell_type": "code",
      "metadata": {
        "id": "XXCtUNAg9o74"
      },
      "source": [
        "theta = gpu_arctan2(y, x)"
      ],
      "execution_count": null,
      "outputs": []
    },
    {
      "cell_type": "code",
      "metadata": {
        "id": "LQeyFTil9vJB",
        "outputId": "bb5d9ea8-315e-41ae-d936-ea499a7f9dfc",
        "colab": {
          "base_uri": "https://localhost:8080/",
          "height": 269
        }
      },
      "source": [
        "_ = plt.hist(theta, bins=200)"
      ],
      "execution_count": null,
      "outputs": [
        {
          "output_type": "display_data",
          "data": {
            "image/png": "[encoded data removed]",
            "text/plain": [
              "<Figure size 432x288 with 1 Axes>"
            ]
          },
          "metadata": {
            "tags": []
          }
        }
      ]
    },
    {
      "cell_type": "markdown",
      "metadata": {
        "id": "ziyMhQf9SoQV"
      },
      "source": [
        "And now it works!\n",
        "\n",
        "**As a general rule, one should remember that CUDA operates on data buffers that are contiguous in memory, like a C array, or a numpy array before any slicing.**\n",
        "\n",
        "Now let's be a bit more ambitious, and compute theta for 10 million points:"
      ]
    },
    {
      "cell_type": "code",
      "metadata": {
        "id": "mb6O__sjr1tt"
      },
      "source": [
        "points = np.random.multivariate_normal([0,0], [[1.,0.9], [0.9,1.]], int(1e7)).astype(np.float32)\n",
        "x = np.ascontiguousarray(points[:,0])\n",
        "y = np.ascontiguousarray(points[:,1])"
      ],
      "execution_count": null,
      "outputs": []
    },
    {
      "cell_type": "code",
      "metadata": {
        "id": "fdvX8t7bA4An",
        "outputId": "361a018c-b51c-4370-8489-835598f922ab",
        "colab": {
          "base_uri": "https://localhost:8080/",
          "height": 269
        }
      },
      "source": [
        "_ = plt.hist(gpu_arctan2(y, x), bins=200)"
      ],
      "execution_count": null,
      "outputs": [
        {
          "output_type": "display_data",
          "data": {
            "image/png": "[encoded data removed]",
            "text/plain": [
              "<Figure size 432x288 with 1 Axes>"
            ]
          },
          "metadata": {
            "tags": []
          }
        }
      ]
    },
    {
      "cell_type": "markdown",
      "metadata": {
        "id": "d_4uMeLBS1Kg"
      },
      "source": [
        "And finally, let's quantify how much time we gain by running on the GPU:"
      ]
    },
    {
      "cell_type": "code",
      "metadata": {
        "id": "dnQ7DGgvsGtf",
        "outputId": "5c7376cf-0743-4cc4-fb3b-a53c9c512993",
        "colab": {
          "base_uri": "https://localhost:8080/",
          "height": 34
        }
      },
      "source": [
        "%timeit gpu_arctan2(y, x) # compiled for the GPU"
      ],
      "execution_count": null,
      "outputs": [
        {
          "output_type": "stream",
          "text": [
            "10 loops, best of 3: 36.8 ms per loop\n"
          ],
          "name": "stdout"
        }
      ]
    },
    {
      "cell_type": "code",
      "metadata": {
        "id": "33XHREIXAWNg",
        "outputId": "15632d00-280e-4c17-cfdd-fdab985c2733",
        "colab": {
          "base_uri": "https://localhost:8080/",
          "height": 34
        }
      },
      "source": [
        "%timeit np.arctan2(y, x) # compiled for the CPU"
      ],
      "execution_count": null,
      "outputs": [
        {
          "output_type": "stream",
          "text": [
            "1 loop, best of 3: 287 ms per loop\n"
          ],
          "name": "stdout"
        }
      ]
    },
    {
      "cell_type": "code",
      "metadata": {
        "id": "s8fz5tC8HGgY",
        "outputId": "9a7fa172-163c-4a01-b3b1-43dd4240dd8d",
        "colab": {
          "base_uri": "https://localhost:8080/",
          "height": 34
        }
      },
      "source": [
        "%timeit [math.atan2(point[1], point[0]) for point in points] # plain python"
      ],
      "execution_count": null,
      "outputs": [
        {
          "output_type": "stream",
          "text": [
            "1 loop, best of 3: 5.35 s per loop\n"
          ],
          "name": "stdout"
        }
      ]
    },
    {
      "cell_type": "markdown",
      "metadata": {
        "id": "snh32iOSTIQL"
      },
      "source": [
        "Nice! this time we gain almost a factor 10 on the GPU with respect to the numpy version, which is compiled for the CPU. And this comes on top of a factor 20 gain with respect to plain python."
      ]
    },
    {
      "cell_type": "markdown",
      "metadata": {
        "id": "m86np5r3VMnS"
      },
      "source": [
        "**Remember: To use the GPU efficiently, you need to give it enough data to process, and complicated tasks.**"
      ]
    },
    {
      "cell_type": "markdown",
      "metadata": {
        "id": "0RFdj6vnSgRz"
      },
      "source": [
        "## Generalized ufuncs on the GPU\n",
        "\n",
        "In regular ufuncs, the calculation is done on each element of the input array, and returns a scalar.\n",
        "\n",
        "In generalized ufuncs (gufuncs), however, the calculation can deal with a sub-array of the input array, and return an array of different dimensions.\n",
        "\n",
        "Ok, I know that sometimes what I write does not make sense... But at least I realize it! So let's have a look at a few examples, things are going to become much clearer.\n",
        "\n",
        "### Generalized ufuncs : from cartesian to polar coordinates\n",
        "\n",
        "Remember how we computed the polar angle for our 2D points above? It would have been nice to get both rho and theta from this calculation, to get a real conversion from cartesian to polar coordinates. This kind of thing is not possible with regular ufuncs (or maybe I just don't know how to do it). But with gufuncs, it's easy:"
      ]
    },
    {
      "cell_type": "code",
      "metadata": {
        "id": "34HCaUDhAiAq"
      },
      "source": [
        "from numba import guvectorize\n",
        "\n",
        "@guvectorize(['(float32[:], float32[:])'],\n",
        "             '(i)->(i)',\n",
        "             target='cuda')\n",
        "def gpu_polar(vec, out):\n",
        "    x = vec[0]\n",
        "    y = vec[1]\n",
        "    out[0] = math.sqrt(x**2 + y**2)\n",
        "    out[1] = math.atan2(y,x)\n"
      ],
      "execution_count": null,
      "outputs": []
    },
    {
      "cell_type": "markdown",
      "metadata": {
        "id": "24pYBeIpXmrc"
      },
      "source": [
        "There are two imporant differences between `guvectorize` and `vectorize`.\n",
        "\n",
        "For `guvectorize`:\n",
        "\n",
        "* **one needs to provide the signature of the array operation**. The signature of the array operation should not to confused with the signature of the compiled function that is provided as a first argument. In the example above, `(i)->(i)` means that a 1D array is taken in input, and that a 1D array with the same size is provided in the output. The 1D array corresponds to the last dimension or innermost dimension of the input array. For example, our points array is of shape `(10000000,2)` so the last dimension is of size 2.\n",
        "* **the result is taken in input and modified in place**. In the code above, the resulting polar coordinates R and theta are stored in the `out` array while `vec`, the input array, contains the cartesian coordinates `x` and `y`."
      ]
    },
    {
      "cell_type": "markdown",
      "metadata": {
        "id": "7B9nynrzarZW"
      },
      "source": [
        "Let's do the conversion between cartesian and polar coordinates:\n",
        "\n",
        "\n"
      ]
    },
    {
      "cell_type": "code",
      "metadata": {
        "id": "rmKqnMVBUynE"
      },
      "source": [
        "polar_coords = gpu_polar(points)"
      ],
      "execution_count": null,
      "outputs": []
    },
    {
      "cell_type": "code",
      "metadata": {
        "id": "y0GtKNeNWhnp",
        "outputId": "30f65394-a144-4c1c-853d-2004b212c8f0",
        "colab": {
          "base_uri": "https://localhost:8080/",
          "height": 283
        }
      },
      "source": [
        "_ = plt.hist(polar_coords[:,0], bins=200)\n",
        "_ = plt.xlabel('R')"
      ],
      "execution_count": null,
      "outputs": [
        {
          "output_type": "display_data",
          "data": {
            "image/png": "[encoded data removed]",
            "text/plain": [
              "<Figure size 432x288 with 1 Axes>"
            ]
          },
          "metadata": {
            "tags": []
          }
        }
      ]
    },
    {
      "cell_type": "code",
      "metadata": {
        "id": "N_lnYsK-XBsx",
        "outputId": "f0ba4ea0-2a3a-4e50-a9e0-f44a3d6311df",
        "colab": {
          "base_uri": "https://localhost:8080/",
          "height": 283
        }
      },
      "source": [
        "_ = plt.hist(polar_coords[:,1], bins=200)\n",
        "_ = plt.xlabel('theta')"
      ],
      "execution_count": null,
      "outputs": [
        {
          "output_type": "display_data",
          "data": {
            "image/png": "[encoded data removed]",
            "text/plain": [
              "<Figure size 432x288 with 1 Axes>"
            ]
          },
          "metadata": {
            "tags": []
          }
        }
      ]
    },
    {
      "cell_type": "markdown",
      "metadata": {
        "id": "kXSIQjDbccSV"
      },
      "source": [
        "### Generalized ufunc: Average\n",
        "\n",
        "To understand better how gufuncs work, let's make one that computes the average of the values on each line of a 2D array:"
      ]
    },
    {
      "cell_type": "code",
      "metadata": {
        "id": "_ZRhx6PrU2Es"
      },
      "source": [
        "@guvectorize(['(float32[:], float32[:])'],\n",
        "             '(n)->()',\n",
        "             target='cuda')\n",
        "def gpu_average(array, out):\n",
        "    acc = 0\n",
        "    for val in array:\n",
        "        acc += val\n",
        "    out[0] = acc/len(array)"
      ],
      "execution_count": null,
      "outputs": []
    },
    {
      "cell_type": "markdown",
      "metadata": {
        "id": "FCd7mfkifgbK"
      },
      "source": [
        "To test our gufunc, we create a 2D array:"
      ]
    },
    {
      "cell_type": "code",
      "metadata": {
        "id": "Ee1MM1B2fbHV",
        "outputId": "403e74eb-f555-41a2-c242-d49943e521be",
        "colab": {
          "base_uri": "https://localhost:8080/",
          "height": 357
        }
      },
      "source": [
        "a = np.arange(100).reshape(20, 5).astype(np.float32)\n",
        "a"
      ],
      "execution_count": null,
      "outputs": [
        {
          "output_type": "execute_result",
          "data": {
            "text/plain": [
              "array([[ 0.,  1.,  2.,  3.,  4.],\n",
              "       [ 5.,  6.,  7.,  8.,  9.],\n",
              "       [10., 11., 12., 13., 14.],\n",
              "       [15., 16., 17., 18., 19.],\n",
              "       [20., 21., 22., 23., 24.],\n",
              "       [25., 26., 27., 28., 29.],\n",
              "       [30., 31., 32., 33., 34.],\n",
              "       [35., 36., 37., 38., 39.],\n",
              "       [40., 41., 42., 43., 44.],\n",
              "       [45., 46., 47., 48., 49.],\n",
              "       [50., 51., 52., 53., 54.],\n",
              "       [55., 56., 57., 58., 59.],\n",
              "       [60., 61., 62., 63., 64.],\n",
              "       [65., 66., 67., 68., 69.],\n",
              "       [70., 71., 72., 73., 74.],\n",
              "       [75., 76., 77., 78., 79.],\n",
              "       [80., 81., 82., 83., 84.],\n",
              "       [85., 86., 87., 88., 89.],\n",
              "       [90., 91., 92., 93., 94.],\n",
              "       [95., 96., 97., 98., 99.]], dtype=float32)"
            ]
          },
          "metadata": {
            "tags": []
          },
          "execution_count": 31
        }
      ]
    },
    {
      "cell_type": "code",
      "metadata": {
        "id": "p8TTRs5Pfpy0",
        "outputId": "42dc1912-6c87-47af-fe41-e7043eadf508",
        "colab": {
          "base_uri": "https://localhost:8080/",
          "height": 51
        }
      },
      "source": [
        "gpu_average(a)"
      ],
      "execution_count": null,
      "outputs": [
        {
          "output_type": "execute_result",
          "data": {
            "text/plain": [
              "array([ 2.,  7., 12., 17., 22., 27., 32., 37., 42., 47., 52., 57., 62.,\n",
              "       67., 72., 77., 82., 87., 92., 97.], dtype=float32)"
            ]
          },
          "metadata": {
            "tags": []
          },
          "execution_count": 32
        }
      ]
    },
    {
      "cell_type": "markdown",
      "metadata": {
        "id": "E0_4_Io3QnNp"
      },
      "source": [
        "## Device functions\n",
        "\n",
        "So far, we have run a single function, either a ufunc or a gufunc, on the GPU, but we are not forced to put all of our code in a single function.\n",
        "\n",
        "Indeed, it is also  possible to compile helper functions for the GPU. These functions, called **device functions**, can then be used on the GPU to make the code cleaner and more modular.\n",
        "\n",
        "As an example, let's take again the gufunc defined just above, that computes the average of the values of each line of a 2D array.\n",
        "\n",
        "We define a device function to add the using the `numba.cuda.jit` decorator, to sum up the elements of a 1D array. Then, we modify the gpu_average gufunc to make use of the `add` device function. And finally, we create another gufunc to sum up the elements of on each line of a 2D array:"
      ]
    },
    {
      "cell_type": "code",
      "metadata": {
        "id": "i9XdnHRBfunN"
      },
      "source": [
        "from numba import cuda\n",
        "\n",
        "@cuda.jit(device=True)\n",
        "def add(array):\n",
        "  acc = 0\n",
        "  for val in array:\n",
        "    acc += val\n",
        "  return acc\n",
        "\n",
        "@guvectorize(['(float32[:], float32[:])'],\n",
        "             '(n)->()',\n",
        "             target='cuda')\n",
        "def gpu_average_2(array, out):\n",
        "    out[0] = add(array)/len(array)\n",
        "\n",
        "@guvectorize(['(float32[:], float32[:])'],\n",
        "             '(n)->()',\n",
        "             target='cuda')\n",
        "def gpu_sum(array, out):\n",
        "    out[0] = add(array)\n",
        "\n"
      ],
      "execution_count": null,
      "outputs": []
    },
    {
      "cell_type": "code",
      "metadata": {
        "id": "cNzS_PeoSVBZ",
        "colab": {
          "base_uri": "https://localhost:8080/",
          "height": 51
        },
        "outputId": "ea7701cc-0d40-4fe7-9fec-9dcf5c6083f5"
      },
      "source": [
        "gpu_average_2(a)"
      ],
      "execution_count": null,
      "outputs": [
        {
          "output_type": "execute_result",
          "data": {
            "text/plain": [
              "array([ 2.,  7., 12., 17., 22., 27., 32., 37., 42., 47., 52., 57., 62.,\n",
              "       67., 72., 77., 82., 87., 92., 97.], dtype=float32)"
            ]
          },
          "metadata": {
            "tags": []
          },
          "execution_count": 34
        }
      ]
    },
    {
      "cell_type": "code",
      "metadata": {
        "id": "eTrkfYBPSjXT",
        "colab": {
          "base_uri": "https://localhost:8080/",
          "height": 68
        },
        "outputId": "09832783-426e-4e10-ca74-9dbbc57b409c"
      },
      "source": [
        "gpu_sum(a)"
      ],
      "execution_count": null,
      "outputs": [
        {
          "output_type": "execute_result",
          "data": {
            "text/plain": [
              "array([ 10.,  35.,  60.,  85., 110., 135., 160., 185., 210., 235., 260.,\n",
              "       285., 310., 335., 360., 385., 410., 435., 460., 485.],\n",
              "      dtype=float32)"
            ]
          },
          "metadata": {
            "tags": []
          },
          "execution_count": 35
        }
      ]
    },
    {
      "cell_type": "markdown",
      "metadata": {
        "id": "NuGYnrVkTbx4"
      },
      "source": [
        "The device function allows us to avoid code duplication.\n",
        "\n",
        "Obviously, it is a bit artifial to use a device function in such an easy case. But when implementing complex algorithms, these functions can prove very useful. Indeed, just like on the CPU, the general principles of programming apply: functions should be simple and to the point, and code duplication should be avoided."
      ]
    },
    {
      "cell_type": "markdown",
      "metadata": {
        "id": "5U0yngpWU1Sg"
      },
      "source": [
        "## Memory management with device arrays\n",
        "\n",
        "As we have seen in the first ufunc example given in this article (parallel square root calculation), the GPU does not always provide a gain in performance.\n",
        "\n",
        "Indeed, before using the raw computing power of the GPU, we need to ship the data to the device. And afterwards, we need to get the results back.\n",
        "\n",
        "A good way to improve performance is to minimize data transfers between the host system and the GPU,  and this can be done with device arrays.\n",
        "\n",
        "To illustrate this, we will use an example provided by nvidia in its DLI course. Let's assume we want to implement a neural network for image processing from scratch. A hidden layer in the network might have to do the following:\n",
        "\n",
        "* normalize greyscale values in the image\n",
        "* weigh them\n",
        "* apply an activation function\n",
        "\n",
        "Each of these three tasks can be done in parallel on the GPU.\n",
        "\n",
        "But first, let's see how to do that on the CPU with plain numpy.\n",
        "For simplicity, we will generate the greyscale values and the weights randomly."
      ]
    },
    {
      "cell_type": "code",
      "metadata": {
        "id": "iFl7DB9wTZu5"
      },
      "source": [
        "n = 1000000\n",
        "\n",
        "# random values between 0. and 255.\n",
        "greyscales = np.floor(np.random.uniform(0, 256, n).astype(np.float32))\n",
        "# random weights following a Gaussian distribution\n",
        "# centred on 0.5 and with width 0.1\n",
        "weights = np.random.normal(.5, .1, n).astype(np.float32)\n",
        "\n",
        "def normalize(grayscales):\n",
        "    return grayscales / 255\n",
        "\n",
        "def weigh(values, weights):\n",
        "    return values * weights\n",
        "\n",
        "def activate(values):\n",
        "    return ( np.exp(values) - np.exp(-values) ) / \\\n",
        "            ( np.exp(values) + np.exp(-values) )\n",
        "\n"
      ],
      "execution_count": null,
      "outputs": []
    },
    {
      "cell_type": "code",
      "metadata": {
        "id": "EirTdzaSY7BH",
        "colab": {
          "base_uri": "https://localhost:8080/",
          "height": 34
        },
        "outputId": "7c442d8d-1193-4a51-a0c9-31a746a07c7b"
      },
      "source": [
        "%%timeit\n",
        "normalized = normalize(greyscales)\n",
        "weighted = weigh(normalized, weights)\n",
        "activated = activate(weighted)"
      ],
      "execution_count": null,
      "outputs": [
        {
          "output_type": "stream",
          "text": [
            "10 loops, best of 3: 28.7 ms per loop\n"
          ],
          "name": "stdout"
        }
      ]
    },
    {
      "cell_type": "markdown",
      "metadata": {
        "id": "K6b4CSoHZ_dO"
      },
      "source": [
        "Now, we implement a parallel version of this algorithm for the GPU, as we have seen above."
      ]
    },
    {
      "cell_type": "code",
      "metadata": {
        "id": "5d6Y2mgBZqyl"
      },
      "source": [
        "@vectorize(['float32(float32)'],target='cuda')\n",
        "def gpu_normalize(x):\n",
        "  return x / 255\n",
        "\n",
        "@vectorize(['float32(float32, float32)'],target='cuda')\n",
        "def gpu_weigh(x, w):\n",
        "  return x * w\n",
        "\n",
        "@vectorize(['float32(float32)'],target='cuda')\n",
        "def gpu_activate(x):\n",
        "  return ( math.exp(x) - math.exp(-x) ) / ( math.exp(x) + math.exp(-x) )\n",
        "\n"
      ],
      "execution_count": null,
      "outputs": []
    },
    {
      "cell_type": "markdown",
      "metadata": {
        "id": "bq0Hui5Nar4M"
      },
      "source": [
        "Please note that the code in these ufuncs operates on scalar values, so we replaced the numpy ufuncs like np.exp by their math equivalent (the division by 255 and the multiplication between the values and the weights were also numpy ufuncs, though hidden a bit).\n",
        "\n",
        "And we check the performance:"
      ]
    },
    {
      "cell_type": "code",
      "metadata": {
        "id": "y1ge-bW_ajh5",
        "colab": {
          "base_uri": "https://localhost:8080/",
          "height": 51
        },
        "outputId": "557d2c1d-3774-4efd-d6e8-327f7896159d"
      },
      "source": [
        "%%timeit\n",
        "normalized = gpu_normalize(greyscales)\n",
        "weighted = gpu_weigh(normalized, weights)\n",
        "activated = gpu_activate(weighted)"
      ],
      "execution_count": null,
      "outputs": [
        {
          "output_type": "stream",
          "text": [
            "The slowest run took 30.06 times longer than the fastest. This could mean that an intermediate result is being cached.\n",
            "1 loop, best of 3: 12 ms per loop\n"
          ],
          "name": "stdout"
        }
      ]
    },
    {
      "cell_type": "markdown",
      "metadata": {
        "id": "RoOELkQgbUnq"
      },
      "source": [
        "That's already quite nice, we gained more than a factor of two!\n",
        "\n",
        "But we realize that we spend time transferring data back and forth between the host and the GPU for nothing:\n",
        "\n",
        "1. transfer `greyscales` to the GPU\n",
        "1. transfer `normalized` to the host, and then back to the GPU, together with `weights`\n",
        "1. transfer `weighted` to the host, and then back to the GPU\n",
        "1. transfer `activated` to the host\n",
        "\n",
        "Actually, we only need to:\n",
        "\n",
        "1. transfer `greyscales` and `weights` to the GPU\n",
        "1. retrieve `activated`\n",
        "\n",
        "So let's do that:"
      ]
    },
    {
      "cell_type": "code",
      "metadata": {
        "id": "GCZHkmXhbKb8",
        "colab": {
          "base_uri": "https://localhost:8080/",
          "height": 34
        },
        "outputId": "6db9ee9c-69cf-42dc-d24a-c1c74886f773"
      },
      "source": [
        "%%timeit\n",
        "\n",
        "# create intermediate arrays on the GPU\n",
        "normalized_gpu = cuda.device_array(shape=(n,),\n",
        "                               dtype=np.float32)\n",
        "weighted_gpu = cuda.device_array(shape=(n,),\n",
        "                             dtype=np.float32)\n",
        "\n",
        "# note that output device arrays are provided as arguments\n",
        "gpu_normalize(greyscales, out=normalized_gpu)\n",
        "gpu_weigh(normalized_gpu, weights, out=weighted_gpu)\n",
        "activated = gpu_activate(weighted_gpu)"
      ],
      "execution_count": null,
      "outputs": [
        {
          "output_type": "stream",
          "text": [
            "100 loops, best of 3: 6.16 ms per loop\n"
          ],
          "name": "stdout"
        }
      ]
    },
    {
      "cell_type": "markdown",
      "metadata": {
        "id": "ZdPH1RdJeV41"
      },
      "source": [
        "We gain a factor of two by eliminating unnecessary data transfers!\n",
        "\n",
        "Another important thing to know is that we can also take full control on the transfers to and from the GPU like this:"
      ]
    },
    {
      "cell_type": "code",
      "metadata": {
        "id": "U1n43lAIdWGl"
      },
      "source": [
        "# transfer inputs to the gpu\n",
        "greyscales_gpu = cuda.to_device(greyscales)\n",
        "weights_gpu = cuda.to_device(weights)\n",
        "\n",
        "# create intermediate arrays and output array on the GPU\n",
        "normalized_gpu = cuda.device_array(shape=(n,),\n",
        "                               dtype=np.float32)\n",
        "weighted_gpu = cuda.device_array(shape=(n,),\n",
        "                             dtype=np.float32)\n",
        "activated_gpu = cuda.device_array(shape=(n,),\n",
        "                             dtype=np.float32)\n"
      ],
      "execution_count": null,
      "outputs": []
    },
    {
      "cell_type": "markdown",
      "metadata": {
        "id": "FCTA-6f8fNu_"
      },
      "source": [
        "Now that everything we need is on the GPU, we do the calculation:"
      ]
    },
    {
      "cell_type": "code",
      "metadata": {
        "id": "4D3tldT0fLh_",
        "colab": {
          "base_uri": "https://localhost:8080/",
          "height": 34
        },
        "outputId": "d2d93787-c9db-4171-ec92-3cac01fe816d"
      },
      "source": [
        "%%timeit\n",
        "gpu_normalize(greyscales_gpu, out=normalized_gpu)\n",
        "gpu_weigh(normalized_gpu, weights_gpu, out=weighted_gpu)\n",
        "gpu_activate(weighted_gpu, out=activated_gpu)"
      ],
      "execution_count": null,
      "outputs": [
        {
          "output_type": "stream",
          "text": [
            "1000 loops, best of 3: 1.32 ms per loop\n"
          ],
          "name": "stdout"
        }
      ]
    },
    {
      "cell_type": "markdown",
      "metadata": {
        "id": "kywGvXpIfcGe"
      },
      "source": [
        "You might be thinking that this factor 5 gain is artificial, because we did not include the necessary transfer times for the input and output data. That's right! Still, this illustrates how you can take full control of your data transfers, which might prove useful on more complex processing workflows.\n",
        "\n",
        "For instance, if we wanted to re-use any of the device arrays defined above, we could do it now, as they are still residing on the GPU as I'm writing this!\n",
        "\n",
        "Finally, here is how to retrieve the results:"
      ]
    },
    {
      "cell_type": "code",
      "metadata": {
        "id": "Jzs4oDbQfY8p",
        "colab": {
          "base_uri": "https://localhost:8080/",
          "height": 51
        },
        "outputId": "a30cceb4-eed2-4fae-ff34-1cab97186275"
      },
      "source": [
        "activated = activated_gpu.copy_to_host()\n",
        "activated"
      ],
      "execution_count": null,
      "outputs": [
        {
          "output_type": "execute_result",
          "data": {
            "text/plain": [
              "array([0.27804664, 0.40110067, 0.00198978, ..., 0.27639735, 0.41989788,\n",
              "       0.22209653], dtype=float32)"
            ]
          },
          "metadata": {
            "tags": []
          },
          "execution_count": 43
        }
      ]
    }
  ]
}
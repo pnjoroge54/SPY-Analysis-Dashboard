{
 "cells": [
  {
   "cell_type": "code",
   "execution_count": 23,
   "metadata": {},
   "outputs": [],
   "source": [
    "import os\n",
    "import math\n",
    "import numpy as np\n",
    "import pandas as pd\n",
    "import requests\n",
    "import pickle\n",
    "from datetime import datetime as dt\n",
    "from datetime import timedelta\n",
    "from pytz import timezone\n",
    "from pprint import pprint\n",
    "\n",
    "import cufflinks as cf\n",
    "import plotly.graph_objects as go\n"
   ]
  },
  {
   "cell_type": "code",
   "execution_count": 7,
   "metadata": {},
   "outputs": [],
   "source": [
    "SPY_info_df = pd.read_csv('data/SPY-Info.csv')\n",
    "SPY_df = pd.read_csv('data/SPY.csv', index_col='Date', parse_dates=True)"
   ]
  },
  {
   "cell_type": "code",
   "execution_count": 8,
   "metadata": {},
   "outputs": [],
   "source": [
    "f = 'data/market_data/'"
   ]
  },
  {
   "cell_type": "code",
   "execution_count": 9,
   "metadata": {},
   "outputs": [],
   "source": [
    "def get_first_dates():\n",
    "    '''Get the earliest date for which market data is available for each company'''\n",
    "\n",
    "    first_dates = []\n",
    "\n",
    "    for file in os.listdir(f):\n",
    "        df = pd.read_csv(f + file, index_col='Unnamed: 0', parse_dates=True)\n",
    "        first_date = df.iloc[0].name\n",
    "        ticker = file.split('.')[0]\n",
    "        first_dates.append((ticker, first_date))\n",
    "        first_dates = sorted(first_dates, key=lambda x: x[1])\n",
    "\n",
    "    return first_dates"
   ]
  },
  {
   "cell_type": "code",
   "execution_count": 10,
   "metadata": {},
   "outputs": [],
   "source": [
    "def make_combined_returns_df():\n",
    "    '''Make dataframe of returns for all SPY stocks, as well as SPY index'''\n",
    "\n",
    "    combined_returns = SPY_df.copy()\n",
    "    combined_returns['Return'] = combined_returns['Close'].pct_change() * 100\n",
    "    combined_returns.drop(\n",
    "        ['Open', 'High', 'Low', 'Close', 'Volume', 'Dividends', 'Stock Splits'],\n",
    "        axis=1, inplace=True\n",
    "        )\n",
    "    combined_returns.rename(columns={'Return': 'SPY'}, inplace=True)\n",
    "    \n",
    "    for file in os.listdir(f):\n",
    "        ticker = file.replace('.csv', '')\n",
    "        df = pd.read_csv(f + file, index_col='Unnamed: 0', parse_dates=True)\n",
    "        df['Return'] = df['adjclose'].pct_change() * 100\n",
    "        combined_returns = combined_returns.join(df['Return'], how='left')\n",
    "        combined_returns.rename(columns={'Return': ticker}, inplace=True)\n",
    "\n",
    "    return combined_returns"
   ]
  },
  {
   "cell_type": "code",
   "execution_count": 11,
   "metadata": {},
   "outputs": [],
   "source": [
    "ticker_list = SPY_info_df['Symbol'].to_list()\n",
    "sector_list = SPY_info_df['GICS Sector'].unique()\n",
    "last_date = SPY_df.iloc[-1].name.date()\n",
    "yr_ago = last_date - timedelta(days=365)\n",
    "first_dates = get_first_dates()\n",
    "combined_returns_df = make_combined_returns_df()"
   ]
  },
  {
   "cell_type": "code",
   "execution_count": 20,
   "metadata": {},
   "outputs": [],
   "source": [
    "def get_weights():\n",
    "    # Assign weights by sectors & sub-industries\n",
    "    \n",
    "    weights_df = pd.read_csv('data/SPY Weights.csv', index_col='Symbol')\n",
    "    sector_weights = {}\n",
    "    subIndustry_weights = {}\n",
    "    ticker_weights = {}\n",
    "\n",
    "    for sector in sector_list:\n",
    "        subIndustry_list = SPY_info_df[SPY_info_df['GICS Sector'] == sector] \\\n",
    "                            ['GICS Sub-Industry'].unique()\n",
    "        sector_weight = 0\n",
    "        for subIndustry in subIndustry_list:\n",
    "            tickers = SPY_info_df[SPY_info_df['GICS Sub-Industry'] == subIndustry] \\\n",
    "                        ['Symbol'].unique()\n",
    "            subIndustry_weight = 0\n",
    "            for ticker in tickers:\n",
    "                weight = weights_df.loc[ticker, 'Weight']\n",
    "                ticker_weights[ticker] = weight\n",
    "                subIndustry_weight += weight\n",
    "\n",
    "            subIndustry_weights[subIndustry] = subIndustry_weight\n",
    "            sector_weight += subIndustry_weight\n",
    "            \n",
    "        sector_weights[sector] = sector_weight\n",
    "       \n",
    "    return sector_weights, subIndustry_weights, ticker_weights\n",
    "\n",
    "sector_weights, subIndustry_weights, ticker_weights = get_weights()"
   ]
  },
  {
   "cell_type": "code",
   "execution_count": 29,
   "metadata": {},
   "outputs": [
    {
     "name": "stdout",
     "output_type": "stream",
     "text": [
      "Sector Weights: 99.99112299999997\n",
      "Sub-Industry Weights: 99.99112299999999\n",
      "Ticker Weights: 99.99112300000004\n"
     ]
    }
   ],
   "source": [
    "print('Sector Weights:', sum(sector_weights.values()))\n",
    "# pprint(sector_weights)\n",
    "print('Sub-Industry Weights:', sum(subIndustry_weights.values()))\n",
    "# pprint(subIndustry_weights)\n",
    "print('Ticker Weights:', sum(ticker_weights.values()))\n",
    "# pprint(ticker_weights)"
   ]
  }
 ],
 "metadata": {
  "kernelspec": {
   "display_name": "Python 3.9.12 ('base')",
   "language": "python",
   "name": "python3"
  },
  "language_info": {
   "codemirror_mode": {
    "name": "ipython",
    "version": 3
   },
   "file_extension": ".py",
   "mimetype": "text/x-python",
   "name": "python",
   "nbconvert_exporter": "python",
   "pygments_lexer": "ipython3",
   "version": "3.9.12"
  },
  "orig_nbformat": 4,
  "vscode": {
   "interpreter": {
    "hash": "fbf00028c01309ec1b95cca6169d8b5ea3ebbd0de0fb069babf7e61372871465"
   }
  }
 },
 "nbformat": 4,
 "nbformat_minor": 2
}
